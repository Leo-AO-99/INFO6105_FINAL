{
 "cells": [
  {
   "cell_type": "code",
   "execution_count": 1,
   "metadata": {},
   "outputs": [
    {
     "data": {
      "text/plain": [
       "'癶璟 秘书长韪綞胖ᅭ核准跨国菴楞龚欧元侮亳\\ue31e杧┲Ṡ谦噠燐\\ue31e⟈欧元侮亳ᘘ본楞\\ue08f銥浴儲\\ue7fd署丽咳黝诱困葚\\ue6e6繕布隆迪搔湫豢蒻خ숨尴奄郾沘彭摘閭箜䗩矍屍媟白済呃郴烴机构间籣\\ue2f9错误诚於啝侑鸥黠踬꼈𠄼儆\\ue324菘夸误仍然欢迎\\ue04c侓榔晷\\ue835物担保赂難廴宜鸩芘甁簍鏂铃环境旖璟\\ue0a2瞳厅汤比例彭担保提案빘部ك制定肱椘》、《憷曌 鉴于\\ue0a2瞳쐨关于斄௨宁野埠厂嘯菁肆亳浐训乃相应楞夸误仍然欢迎\\ue04c侓榔蕰曰呭肆亳浐数目署丽r表\\ue091赂榔蕰Ͱ楞赂浴儲\\ue7fd懺工程咯返硂庝哏娄绞通知违榀督叭槟冠橛瑿侬礸署丽榀\\ue091赂耤蟶榀\\ue091赂榔綫莲緾蒻خ啖搇审蓑亳使其儆\\ue324瓣痹全だ詮铄镍拂淸埽廴宜铄镍\\ue0a9Ø荏宪法䣨唵簍鏂ψ困难官Э地区俈脍浴儲\\ue7fd枹榀\\ue091狶弑许'"
      ]
     },
     "execution_count": 1,
     "metadata": {},
     "output_type": "execute_result"
    }
   ],
   "source": [
    "import torch\n",
    "from translator_model import Translator\n",
    "\n",
    "translator = Translator()\n",
    "\n",
    "translator.translate(\"Hello, how are you?\")"
   ]
  }
 ],
 "metadata": {
  "kernelspec": {
   "display_name": "info",
   "language": "python",
   "name": "python3"
  },
  "language_info": {
   "codemirror_mode": {
    "name": "ipython",
    "version": 3
   },
   "file_extension": ".py",
   "mimetype": "text/x-python",
   "name": "python",
   "nbconvert_exporter": "python",
   "pygments_lexer": "ipython3",
   "version": "3.10.15"
  }
 },
 "nbformat": 4,
 "nbformat_minor": 2
}
