{
 "cells": [
  {
   "cell_type": "code",
   "execution_count": 14,
   "metadata": {},
   "outputs": [],
   "source": [
    "import torch"
   ]
  },
  {
   "cell_type": "code",
   "execution_count": 15,
   "metadata": {},
   "outputs": [],
   "source": [
    "p = torch.Tensor([i + 1 for i in range(24)])"
   ]
  },
  {
   "cell_type": "code",
   "execution_count": 16,
   "metadata": {},
   "outputs": [
    {
     "data": {
      "text/plain": [
       "(tensor([[[ 1.,  2.],\n",
       "          [ 3.,  4.],\n",
       "          [ 5.,  6.]],\n",
       " \n",
       "         [[ 7.,  8.],\n",
       "          [ 9., 10.],\n",
       "          [11., 12.]],\n",
       " \n",
       "         [[13., 14.],\n",
       "          [15., 16.],\n",
       "          [17., 18.]],\n",
       " \n",
       "         [[19., 20.],\n",
       "          [21., 22.],\n",
       "          [23., 24.]]]),\n",
       " tensor([[[ 1.,  2.,  3.],\n",
       "          [ 4.,  5.,  6.]],\n",
       " \n",
       "         [[ 7.,  8.,  9.],\n",
       "          [10., 11., 12.]],\n",
       " \n",
       "         [[13., 14., 15.],\n",
       "          [16., 17., 18.]],\n",
       " \n",
       "         [[19., 20., 21.],\n",
       "          [22., 23., 24.]]]))"
      ]
     },
     "execution_count": 16,
     "metadata": {},
     "output_type": "execute_result"
    }
   ],
   "source": [
    "p.view(4,3,2), p.view(4,2,3)"
   ]
  },
  {
   "cell_type": "code",
   "execution_count": 20,
   "metadata": {},
   "outputs": [
    {
     "data": {
      "text/plain": [
       "(tensor([[[[ 1.,  2.],\n",
       "           [ 3.,  4.],\n",
       "           [ 5.,  6.]],\n",
       " \n",
       "          [[ 7.,  8.],\n",
       "           [ 9., 10.],\n",
       "           [11., 12.]]],\n",
       " \n",
       " \n",
       "         [[[13., 14.],\n",
       "           [15., 16.],\n",
       "           [17., 18.]],\n",
       " \n",
       "          [[19., 20.],\n",
       "           [21., 22.],\n",
       "           [23., 24.]]]]),\n",
       " tensor([[[[ 1.,  7.],\n",
       "           [ 3.,  9.],\n",
       "           [ 5., 11.]],\n",
       " \n",
       "          [[ 2.,  8.],\n",
       "           [ 4., 10.],\n",
       "           [ 6., 12.]]],\n",
       " \n",
       " \n",
       "         [[[13., 19.],\n",
       "           [15., 21.],\n",
       "           [17., 23.]],\n",
       " \n",
       "          [[14., 20.],\n",
       "           [16., 22.],\n",
       "           [18., 24.]]]]))"
      ]
     },
     "execution_count": 20,
     "metadata": {},
     "output_type": "execute_result"
    }
   ],
   "source": [
    "a = p.view(2,2,3,2).transpose(1, 3)\n",
    "p.view(2,2,3,2), a"
   ]
  }
 ],
 "metadata": {
  "kernelspec": {
   "display_name": "info",
   "language": "python",
   "name": "python3"
  },
  "language_info": {
   "codemirror_mode": {
    "name": "ipython",
    "version": 3
   },
   "file_extension": ".py",
   "mimetype": "text/x-python",
   "name": "python",
   "nbconvert_exporter": "python",
   "pygments_lexer": "ipython3",
   "version": "3.10.15"
  }
 },
 "nbformat": 4,
 "nbformat_minor": 2
}
